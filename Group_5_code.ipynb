{
  "nbformat": 4,
  "nbformat_minor": 0,
  "metadata": {
    "colab": {
      "name": "Group_5_code",
      "provenance": [],
      "collapsed_sections": [],
      "include_colab_link": true
    },
    "kernelspec": {
      "name": "python3",
      "display_name": "Python 3"
    }
  },
  "cells": [
    {
      "cell_type": "markdown",
      "metadata": {
        "id": "view-in-github",
        "colab_type": "text"
      },
      "source": [
        "<a href=\"https://colab.research.google.com/github/LusineSargsyan98/Armenia_data/blob/master/Group_5_code.ipynb\" target=\"_parent\"><img src=\"https://colab.research.google.com/assets/colab-badge.svg\" alt=\"Open In Colab\"/></a>"
      ]
    },
    {
      "cell_type": "code",
      "metadata": {
        "id": "fY8LpasFWqRG",
        "colab_type": "code",
        "colab": {
          "base_uri": "https://localhost:8080/",
          "height": 72
        },
        "outputId": "c83fd797-3aa3-49cb-be47-a68a63496c8c"
      },
      "source": [
        "import pandas as pd\n",
        "import matplotlib.pyplot as plt \n",
        "import datetime\n",
        "import time\n",
        "import numpy as np\n",
        "import itertools\n",
        "from pandas import datetime\n",
        "from statsmodels.tsa.stattools import adfuller, acf, pacf,arma_order_select_ic\n",
        "from statsmodels.graphics.tsaplots import plot_acf, plot_pacf\n",
        "from statsmodels.tsa.arima_model import ARIMA\n",
        "import warnings\n",
        "warnings.simplefilter('ignore')\n",
        "from statsmodels.tsa.statespace.sarimax import SARIMAX\n",
        "from fbprophet import Prophet"
      ],
      "execution_count": 1,
      "outputs": [
        {
          "output_type": "stream",
          "text": [
            "/usr/local/lib/python3.6/dist-packages/statsmodels/tools/_testing.py:19: FutureWarning: pandas.util.testing is deprecated. Use the functions in the public API at pandas.testing instead.\n",
            "  import pandas.util.testing as tm\n"
          ],
          "name": "stderr"
        }
      ]
    },
    {
      "cell_type": "code",
      "metadata": {
        "id": "G2kjSnKMNwYN",
        "colab_type": "code",
        "colab": {}
      },
      "source": [
        "#Importing the dataframe\n",
        "url = \"https://raw.githubusercontent.com/arakskarapetyan/Business_Analytics_2020/master/Armenia_COVID_Cases.csv\"\n",
        "data = pd.read_csv(url, index_col = 'Date', parse_dates = True)"
      ],
      "execution_count": 0,
      "outputs": []
    },
    {
      "cell_type": "code",
      "metadata": {
        "id": "UXqz6CnTS1sx",
        "colab_type": "code",
        "outputId": "e1d3bf5c-7e72-46dc-abb0-7e2ebd8ec902",
        "colab": {
          "base_uri": "https://localhost:8080/",
          "height": 233
        }
      },
      "source": [
        "data.head()"
      ],
      "execution_count": 63,
      "outputs": [
        {
          "output_type": "execute_result",
          "data": {
            "text/html": [
              "<div>\n",
              "<style scoped>\n",
              "    .dataframe tbody tr th:only-of-type {\n",
              "        vertical-align: middle;\n",
              "    }\n",
              "\n",
              "    .dataframe tbody tr th {\n",
              "        vertical-align: top;\n",
              "    }\n",
              "\n",
              "    .dataframe thead th {\n",
              "        text-align: right;\n",
              "    }\n",
              "</style>\n",
              "<table border=\"1\" class=\"dataframe\">\n",
              "  <thead>\n",
              "    <tr style=\"text-align: right;\">\n",
              "      <th></th>\n",
              "      <th>iso_code</th>\n",
              "      <th>Country_Region</th>\n",
              "      <th>NewCases</th>\n",
              "      <th>Confirmed Cases</th>\n",
              "      <th>NewDeaths</th>\n",
              "      <th>TotalDeaths</th>\n",
              "    </tr>\n",
              "    <tr>\n",
              "      <th>Date</th>\n",
              "      <th></th>\n",
              "      <th></th>\n",
              "      <th></th>\n",
              "      <th></th>\n",
              "      <th></th>\n",
              "      <th></th>\n",
              "    </tr>\n",
              "  </thead>\n",
              "  <tbody>\n",
              "    <tr>\n",
              "      <th>2020-03-01</th>\n",
              "      <td>ARM</td>\n",
              "      <td>Armenia</td>\n",
              "      <td>1</td>\n",
              "      <td>1</td>\n",
              "      <td>0</td>\n",
              "      <td>0</td>\n",
              "    </tr>\n",
              "    <tr>\n",
              "      <th>2020-03-02</th>\n",
              "      <td>ARM</td>\n",
              "      <td>Armenia</td>\n",
              "      <td>0</td>\n",
              "      <td>1</td>\n",
              "      <td>0</td>\n",
              "      <td>0</td>\n",
              "    </tr>\n",
              "    <tr>\n",
              "      <th>2020-03-03</th>\n",
              "      <td>ARM</td>\n",
              "      <td>Armenia</td>\n",
              "      <td>0</td>\n",
              "      <td>1</td>\n",
              "      <td>0</td>\n",
              "      <td>0</td>\n",
              "    </tr>\n",
              "    <tr>\n",
              "      <th>2020-03-04</th>\n",
              "      <td>ARM</td>\n",
              "      <td>Armenia</td>\n",
              "      <td>0</td>\n",
              "      <td>1</td>\n",
              "      <td>0</td>\n",
              "      <td>0</td>\n",
              "    </tr>\n",
              "    <tr>\n",
              "      <th>2020-03-05</th>\n",
              "      <td>ARM</td>\n",
              "      <td>Armenia</td>\n",
              "      <td>0</td>\n",
              "      <td>1</td>\n",
              "      <td>0</td>\n",
              "      <td>0</td>\n",
              "    </tr>\n",
              "  </tbody>\n",
              "</table>\n",
              "</div>"
            ],
            "text/plain": [
              "           iso_code Country_Region  ...  NewDeaths  TotalDeaths\n",
              "Date                                ...                        \n",
              "2020-03-01      ARM        Armenia  ...          0            0\n",
              "2020-03-02      ARM        Armenia  ...          0            0\n",
              "2020-03-03      ARM        Armenia  ...          0            0\n",
              "2020-03-04      ARM        Armenia  ...          0            0\n",
              "2020-03-05      ARM        Armenia  ...          0            0\n",
              "\n",
              "[5 rows x 6 columns]"
            ]
          },
          "metadata": {
            "tags": []
          },
          "execution_count": 63
        }
      ]
    },
    {
      "cell_type": "code",
      "metadata": {
        "id": "2yCYQESIXWZd",
        "colab_type": "code",
        "colab": {
          "base_uri": "https://localhost:8080/",
          "height": 233
        },
        "outputId": "0f4abf4d-f2a9-4924-e975-3939ae7269a2"
      },
      "source": [
        "data.tail()"
      ],
      "execution_count": 64,
      "outputs": [
        {
          "output_type": "execute_result",
          "data": {
            "text/html": [
              "<div>\n",
              "<style scoped>\n",
              "    .dataframe tbody tr th:only-of-type {\n",
              "        vertical-align: middle;\n",
              "    }\n",
              "\n",
              "    .dataframe tbody tr th {\n",
              "        vertical-align: top;\n",
              "    }\n",
              "\n",
              "    .dataframe thead th {\n",
              "        text-align: right;\n",
              "    }\n",
              "</style>\n",
              "<table border=\"1\" class=\"dataframe\">\n",
              "  <thead>\n",
              "    <tr style=\"text-align: right;\">\n",
              "      <th></th>\n",
              "      <th>iso_code</th>\n",
              "      <th>Country_Region</th>\n",
              "      <th>NewCases</th>\n",
              "      <th>Confirmed Cases</th>\n",
              "      <th>NewDeaths</th>\n",
              "      <th>TotalDeaths</th>\n",
              "    </tr>\n",
              "    <tr>\n",
              "      <th>Date</th>\n",
              "      <th></th>\n",
              "      <th></th>\n",
              "      <th></th>\n",
              "      <th></th>\n",
              "      <th></th>\n",
              "      <th></th>\n",
              "    </tr>\n",
              "  </thead>\n",
              "  <tbody>\n",
              "    <tr>\n",
              "      <th>2020-05-10</th>\n",
              "      <td>ARM</td>\n",
              "      <td>Armenia</td>\n",
              "      <td>79</td>\n",
              "      <td>3392</td>\n",
              "      <td>1</td>\n",
              "      <td>46</td>\n",
              "    </tr>\n",
              "    <tr>\n",
              "      <th>2020-05-11</th>\n",
              "      <td>ARM</td>\n",
              "      <td>Armenia</td>\n",
              "      <td>146</td>\n",
              "      <td>3538</td>\n",
              "      <td>1</td>\n",
              "      <td>47</td>\n",
              "    </tr>\n",
              "    <tr>\n",
              "      <th>2020-05-12</th>\n",
              "      <td>ARM</td>\n",
              "      <td>Armenia</td>\n",
              "      <td>180</td>\n",
              "      <td>3718</td>\n",
              "      <td>1</td>\n",
              "      <td>48</td>\n",
              "    </tr>\n",
              "    <tr>\n",
              "      <th>2020-05-13</th>\n",
              "      <td>ARM</td>\n",
              "      <td>Armenia</td>\n",
              "      <td>142</td>\n",
              "      <td>3860</td>\n",
              "      <td>1</td>\n",
              "      <td>49</td>\n",
              "    </tr>\n",
              "    <tr>\n",
              "      <th>2020-05-14</th>\n",
              "      <td>ARM</td>\n",
              "      <td>Armenia</td>\n",
              "      <td>184</td>\n",
              "      <td>4044</td>\n",
              "      <td>3</td>\n",
              "      <td>52</td>\n",
              "    </tr>\n",
              "  </tbody>\n",
              "</table>\n",
              "</div>"
            ],
            "text/plain": [
              "           iso_code Country_Region  ...  NewDeaths  TotalDeaths\n",
              "Date                                ...                        \n",
              "2020-05-10      ARM        Armenia  ...          1           46\n",
              "2020-05-11      ARM        Armenia  ...          1           47\n",
              "2020-05-12      ARM        Armenia  ...          1           48\n",
              "2020-05-13      ARM        Armenia  ...          1           49\n",
              "2020-05-14      ARM        Armenia  ...          3           52\n",
              "\n",
              "[5 rows x 6 columns]"
            ]
          },
          "metadata": {
            "tags": []
          },
          "execution_count": 64
        }
      ]
    },
    {
      "cell_type": "code",
      "metadata": {
        "id": "4HYOf0DDYMDG",
        "colab_type": "code",
        "colab": {}
      },
      "source": [
        "data.rename(columns={'Confirmed Cases':'ConfirmedCases'},inplace=True)"
      ],
      "execution_count": 0,
      "outputs": []
    },
    {
      "cell_type": "code",
      "metadata": {
        "id": "b_ALbe_gxxJu",
        "colab_type": "code",
        "outputId": "f2d53251-72b7-4931-d077-5c3e6d79772d",
        "colab": {
          "base_uri": "https://localhost:8080/",
          "height": 243
        }
      },
      "source": [
        "data.info()"
      ],
      "execution_count": 66,
      "outputs": [
        {
          "output_type": "stream",
          "text": [
            "<class 'pandas.core.frame.DataFrame'>\n",
            "DatetimeIndex: 75 entries, 2020-03-01 to 2020-05-14\n",
            "Data columns (total 6 columns):\n",
            " #   Column          Non-Null Count  Dtype \n",
            "---  ------          --------------  ----- \n",
            " 0   iso_code        75 non-null     object\n",
            " 1   Country_Region  75 non-null     object\n",
            " 2   NewCases        75 non-null     int64 \n",
            " 3   ConfirmedCases  75 non-null     int64 \n",
            " 4   NewDeaths       75 non-null     int64 \n",
            " 5   TotalDeaths     75 non-null     int64 \n",
            "dtypes: int64(4), object(2)\n",
            "memory usage: 4.1+ KB\n"
          ],
          "name": "stdout"
        }
      ]
    },
    {
      "cell_type": "code",
      "metadata": {
        "id": "iML5U_9uyON7",
        "colab_type": "code",
        "outputId": "7b701c20-a289-4af4-b666-01fb3cf4a831",
        "colab": {
          "base_uri": "https://localhost:8080/",
          "height": 35
        }
      },
      "source": [
        "data.shape"
      ],
      "execution_count": 67,
      "outputs": [
        {
          "output_type": "execute_result",
          "data": {
            "text/plain": [
              "(75, 6)"
            ]
          },
          "metadata": {
            "tags": []
          },
          "execution_count": 67
        }
      ]
    },
    {
      "cell_type": "code",
      "metadata": {
        "id": "16hOVSaC6joq",
        "colab_type": "code",
        "outputId": "74704dde-a275-4f55-e5a5-9dae1df4d403",
        "colab": {
          "base_uri": "https://localhost:8080/",
          "height": 294
        }
      },
      "source": [
        "#The following command gives us basic summary statistics. It shows that the maximum number of new recorded cases is 184, which was May 14, 2020.\n",
        "#It also shows that Armenia has total of 52 death cases, which is trivial when we compare it to the world numbers. \n",
        "data.describe()"
      ],
      "execution_count": 68,
      "outputs": [
        {
          "output_type": "execute_result",
          "data": {
            "text/html": [
              "<div>\n",
              "<style scoped>\n",
              "    .dataframe tbody tr th:only-of-type {\n",
              "        vertical-align: middle;\n",
              "    }\n",
              "\n",
              "    .dataframe tbody tr th {\n",
              "        vertical-align: top;\n",
              "    }\n",
              "\n",
              "    .dataframe thead th {\n",
              "        text-align: right;\n",
              "    }\n",
              "</style>\n",
              "<table border=\"1\" class=\"dataframe\">\n",
              "  <thead>\n",
              "    <tr style=\"text-align: right;\">\n",
              "      <th></th>\n",
              "      <th>NewCases</th>\n",
              "      <th>ConfirmedCases</th>\n",
              "      <th>NewDeaths</th>\n",
              "      <th>TotalDeaths</th>\n",
              "    </tr>\n",
              "  </thead>\n",
              "  <tbody>\n",
              "    <tr>\n",
              "      <th>count</th>\n",
              "      <td>75.000000</td>\n",
              "      <td>75.000000</td>\n",
              "      <td>75.000000</td>\n",
              "      <td>75.000000</td>\n",
              "    </tr>\n",
              "    <tr>\n",
              "      <th>mean</th>\n",
              "      <td>53.920000</td>\n",
              "      <td>1148.026667</td>\n",
              "      <td>0.693333</td>\n",
              "      <td>15.560000</td>\n",
              "    </tr>\n",
              "    <tr>\n",
              "      <th>std</th>\n",
              "      <td>48.398336</td>\n",
              "      <td>1137.691914</td>\n",
              "      <td>0.914941</td>\n",
              "      <td>16.698632</td>\n",
              "    </tr>\n",
              "    <tr>\n",
              "      <th>min</th>\n",
              "      <td>0.000000</td>\n",
              "      <td>1.000000</td>\n",
              "      <td>0.000000</td>\n",
              "      <td>0.000000</td>\n",
              "    </tr>\n",
              "    <tr>\n",
              "      <th>25%</th>\n",
              "      <td>18.500000</td>\n",
              "      <td>148.000000</td>\n",
              "      <td>0.000000</td>\n",
              "      <td>0.000000</td>\n",
              "    </tr>\n",
              "    <tr>\n",
              "      <th>50%</th>\n",
              "      <td>43.000000</td>\n",
              "      <td>881.000000</td>\n",
              "      <td>0.000000</td>\n",
              "      <td>9.000000</td>\n",
              "    </tr>\n",
              "    <tr>\n",
              "      <th>75%</th>\n",
              "      <td>73.000000</td>\n",
              "      <td>1777.000000</td>\n",
              "      <td>1.000000</td>\n",
              "      <td>28.500000</td>\n",
              "    </tr>\n",
              "    <tr>\n",
              "      <th>max</th>\n",
              "      <td>184.000000</td>\n",
              "      <td>4044.000000</td>\n",
              "      <td>4.000000</td>\n",
              "      <td>52.000000</td>\n",
              "    </tr>\n",
              "  </tbody>\n",
              "</table>\n",
              "</div>"
            ],
            "text/plain": [
              "         NewCases  ConfirmedCases  NewDeaths  TotalDeaths\n",
              "count   75.000000       75.000000  75.000000    75.000000\n",
              "mean    53.920000     1148.026667   0.693333    15.560000\n",
              "std     48.398336     1137.691914   0.914941    16.698632\n",
              "min      0.000000        1.000000   0.000000     0.000000\n",
              "25%     18.500000      148.000000   0.000000     0.000000\n",
              "50%     43.000000      881.000000   0.000000     9.000000\n",
              "75%     73.000000     1777.000000   1.000000    28.500000\n",
              "max    184.000000     4044.000000   4.000000    52.000000"
            ]
          },
          "metadata": {
            "tags": []
          },
          "execution_count": 68
        }
      ]
    },
    {
      "cell_type": "markdown",
      "metadata": {
        "id": "2xmOux2I3_4s",
        "colab_type": "text"
      },
      "source": [
        "Identification - data manipulation, transformation"
      ]
    },
    {
      "cell_type": "code",
      "metadata": {
        "id": "3RCxlh3sxV10",
        "colab_type": "code",
        "outputId": "b8b014ab-b413-495a-fa9f-d55b43beac12",
        "colab": {
          "base_uri": "https://localhost:8080/",
          "height": 403
        }
      },
      "source": [
        "#Plotting the data of Confirmed cases: it is visible that the data has a trend as it is growing.\n",
        "plt.figure(figsize=(15,5))\n",
        "plt.subplot(1,2,1)\n",
        "data['ConfirmedCases'].plot()\n",
        "plt.ylabel('Cumulative Confirmed Cases')\n",
        "plt.title('The Growth of COVID-19 Cases in Armenia (cumulative)')\n",
        "\n",
        "plt.subplot(1,2,2)\n",
        "data['NewCases'].plot()\n",
        "plt.ylabel('Daily Confirmed Cases')\n",
        "plt.title('The Growth of COVID-19 Cases in Armenia (daily)')\n"
      ],
      "execution_count": 97,
      "outputs": [
        {
          "output_type": "execute_result",
          "data": {
            "text/plain": [
              "Text(0.5, 1.0, 'The Growth of COVID-19 Cases in Armenia (daily)')"
            ]
          },
          "metadata": {
            "tags": []
          },
          "execution_count": 97
        },
        {
          "output_type": "display_data",
          "data": {
            "image/png": "[encoded data removed]",
            "text/plain": [
              "<Figure size 1080x360 with 2 Axes>"
            ]
          },
          "metadata": {
            "tags": [],
            "needs_background": "light"
          }
        }
      ]
    },
    {
      "cell_type": "code",
      "metadata": {
        "id": "ccxuf2QXaZkd",
        "colab_type": "code",
        "outputId": "5dfc1472-3a80-405f-aa0a-e86f16bf0e6e",
        "colab": {
          "base_uri": "https://localhost:8080/",
          "height": 35
        }
      },
      "source": [
        "#Calculating the autocorrelation. It seems that the cases have high correlation with the lagged copy.\n",
        "data['ConfirmedCases'].autocorr()"
      ],
      "execution_count": 17,
      "outputs": [
        {
          "output_type": "execute_result",
          "data": {
            "text/plain": [
              "0.9998395443000888"
            ]
          },
          "metadata": {
            "tags": []
          },
          "execution_count": 17
        }
      ]
    },
    {
      "cell_type": "code",
      "metadata": {
        "id": "LR3n8zx80kDN",
        "colab_type": "code",
        "outputId": "157988a0-63a2-4dce-dd21-b1669fc5067f",
        "colab": {
          "base_uri": "https://localhost:8080/",
          "height": 545
        }
      },
      "source": [
        "#Plotting the autocorrelation to see if there is a correlation between confirmed cases and the lagged copy of itself. The plot shows high autocorrelation. \n",
        "plot_acf(data.ConfirmedCases, lags = 20, alpha = 0.05)"
      ],
      "execution_count": 69,
      "outputs": [
        {
          "output_type": "execute_result",
          "data": {
            "image/png": "[encoded data removed]",
            "text/plain": [
              "<Figure size 432x288 with 1 Axes>"
            ]
          },
          "metadata": {
            "tags": []
          },
          "execution_count": 69
        },
        {
          "output_type": "display_data",
          "data": {
            "image/png": "[encoded data removed]",
            "text/plain": [
              "<Figure size 432x288 with 1 Axes>"
            ]
          },
          "metadata": {
            "tags": [],
            "needs_background": "light"
          }
        }
      ]
    },
    {
      "cell_type": "code",
      "metadata": {
        "id": "S9t9kI4-3tP3",
        "colab_type": "code",
        "colab": {}
      },
      "source": [
        "#Running the adfuller test to see if the series is random walk. The null is that the series is random walk/non-stationary.\n",
        "results = adfuller(data['ConfirmedCases'])"
      ],
      "execution_count": 0,
      "outputs": []
    },
    {
      "cell_type": "code",
      "metadata": {
        "id": "a1k6yj4J55r9",
        "colab_type": "code",
        "outputId": "deb8f3f2-8599-4b65-94ec-88ae935ecf47",
        "colab": {
          "base_uri": "https://localhost:8080/",
          "height": 35
        }
      },
      "source": [
        "#The p-value is 1.0, which means we fail to reject the null. \n",
        "print(results)"
      ],
      "execution_count": 71,
      "outputs": [
        {
          "output_type": "stream",
          "text": [
            "(2.7445814553103896, 1.0, 5, 69, {'1%': -3.528889992207215, '5%': -2.9044395987933362, '10%': -2.589655654274312}, 558.2635932049561)\n"
          ],
          "name": "stdout"
        }
      ]
    },
    {
      "cell_type": "code",
      "metadata": {
        "id": "1x-ERW9Q6Agq",
        "colab_type": "code",
        "colab": {}
      },
      "source": [
        "#To make the data stationary let's take the first difference of the series.\n",
        "data['data_diff1'] = data.ConfirmedCases.diff(periods = 1)"
      ],
      "execution_count": 0,
      "outputs": []
    },
    {
      "cell_type": "code",
      "metadata": {
        "id": "dM1Uk9M76Yt6",
        "colab_type": "code",
        "outputId": "4679362a-291a-4abe-9669-518296d542ed",
        "colab": {
          "base_uri": "https://localhost:8080/",
          "height": 331
        }
      },
      "source": [
        "#We can observe from the plot that it still has a trend and is not stationary.\n",
        "data.data_diff1.plot()"
      ],
      "execution_count": 73,
      "outputs": [
        {
          "output_type": "execute_result",
          "data": {
            "text/plain": [
              "<matplotlib.axes._subplots.AxesSubplot at 0x7f0238b2ee48>"
            ]
          },
          "metadata": {
            "tags": []
          },
          "execution_count": 73
        },
        {
          "output_type": "display_data",
          "data": {
            "image/png": "[encoded data removed]",
            "text/plain": [
              "<Figure size 432x288 with 1 Axes>"
            ]
          },
          "metadata": {
            "tags": [],
            "needs_background": "light"
          }
        }
      ]
    },
    {
      "cell_type": "code",
      "metadata": {
        "id": "-SHuWTD16f1B",
        "colab_type": "code",
        "colab": {}
      },
      "source": [
        "#Let's take the 2nd difference.\n",
        "data['data_diff2'] = data.data_diff1.diff(periods = 1)"
      ],
      "execution_count": 0,
      "outputs": []
    },
    {
      "cell_type": "code",
      "metadata": {
        "id": "OGplP3XM60ju",
        "colab_type": "code",
        "colab": {}
      },
      "source": [
        "data = data.dropna()"
      ],
      "execution_count": 0,
      "outputs": []
    },
    {
      "cell_type": "code",
      "metadata": {
        "id": "qN4XboNS622m",
        "colab_type": "code",
        "outputId": "d638df6b-2500-4591-cc75-c3baaf2968ec",
        "colab": {
          "base_uri": "https://localhost:8080/",
          "height": 331
        }
      },
      "source": [
        "#We can see that it became stationary.\n",
        "data.data_diff2.plot()"
      ],
      "execution_count": 76,
      "outputs": [
        {
          "output_type": "execute_result",
          "data": {
            "text/plain": [
              "<matplotlib.axes._subplots.AxesSubplot at 0x7f0238a8ce80>"
            ]
          },
          "metadata": {
            "tags": []
          },
          "execution_count": 76
        },
        {
          "output_type": "display_data",
          "data": {
            "image/png": "[encoded data removed]",
            "text/plain": [
              "<Figure size 432x288 with 1 Axes>"
            ]
          },
          "metadata": {
            "tags": [],
            "needs_background": "light"
          }
        }
      ]
    },
    {
      "cell_type": "code",
      "metadata": {
        "id": "zjM5pK6z65g8",
        "colab_type": "code",
        "colab": {}
      },
      "source": [
        "#We run the test again.\n",
        "results1 = adfuller(data['data_diff2'])"
      ],
      "execution_count": 0,
      "outputs": []
    },
    {
      "cell_type": "code",
      "metadata": {
        "id": "f90gCM707HZ7",
        "colab_type": "code",
        "outputId": "d0ceb717-44f8-4316-919e-a605ed45c028",
        "colab": {
          "base_uri": "https://localhost:8080/",
          "height": 35
        }
      },
      "source": [
        "#The p-value became very small, now we can surely reject the null.\n",
        "print(results1[1])"
      ],
      "execution_count": 27,
      "outputs": [
        {
          "output_type": "stream",
          "text": [
            "0.00011164420571184414\n"
          ],
          "name": "stdout"
        }
      ]
    },
    {
      "cell_type": "code",
      "metadata": {
        "id": "ZdhJTclwphSW",
        "colab_type": "code",
        "outputId": "66fa678f-fe24-4b70-eae7-3efee3befbd3",
        "colab": {
          "base_uri": "https://localhost:8080/",
          "height": 385
        }
      },
      "source": [
        "#Let's create a subplot of the two versions\n",
        "plt.figure(figsize=(15,5))\n",
        "plt.subplot(1,2,1)\n",
        "data.data_diff1.plot()\n",
        "plt.title('Confirmed Cases by First Difference')\n",
        "\n",
        "plt.subplot(1,2,2)\n",
        "data.data_diff2.plot()\n",
        "plt.title('Confirmed Cases by Second Difference')\n",
        "plt.show()"
      ],
      "execution_count": 98,
      "outputs": [
        {
          "output_type": "display_data",
          "data": {
            "image/png": "[encoded data removed]",
            "text/plain": [
              "<Figure size 1080x360 with 2 Axes>"
            ]
          },
          "metadata": {
            "tags": [],
            "needs_background": "light"
          }
        }
      ]
    },
    {
      "cell_type": "code",
      "metadata": {
        "id": "cnb-6Wki7J76",
        "colab_type": "code",
        "outputId": "64559f90-bbbc-4d16-b2a3-1031d0a72281",
        "colab": {
          "base_uri": "https://localhost:8080/",
          "height": 545
        }
      },
      "source": [
        "#Plotting the autocorrelation after making the data stationary.\n",
        "plot_acf(data.data_diff2, lags = 30, alpha = 0.05)"
      ],
      "execution_count": 78,
      "outputs": [
        {
          "output_type": "execute_result",
          "data": {
            "image/png": "[encoded data removed]",
            "text/plain": [
              "<Figure size 432x288 with 1 Axes>"
            ]
          },
          "metadata": {
            "tags": []
          },
          "execution_count": 78
        },
        {
          "output_type": "display_data",
          "data": {
            "image/png": "[encoded data removed]",
            "text/plain": [
              "<Figure size 432x288 with 1 Axes>"
            ]
          },
          "metadata": {
            "tags": [],
            "needs_background": "light"
          }
        }
      ]
    },
    {
      "cell_type": "code",
      "metadata": {
        "id": "fcjIp7ID9AHJ",
        "colab_type": "code",
        "outputId": "90b85482-2436-40a6-8ecf-5c5d89d351bc",
        "colab": {
          "base_uri": "https://localhost:8080/",
          "height": 35
        }
      },
      "source": [
        "data['ConfirmedCases'].size"
      ],
      "execution_count": 79,
      "outputs": [
        {
          "output_type": "execute_result",
          "data": {
            "text/plain": [
              "73"
            ]
          },
          "metadata": {
            "tags": []
          },
          "execution_count": 79
        }
      ]
    },
    {
      "cell_type": "markdown",
      "metadata": {
        "id": "8guapA5-Qzuj",
        "colab_type": "text"
      },
      "source": [
        "Model estimation - ARIMA "
      ]
    },
    {
      "cell_type": "code",
      "metadata": {
        "id": "_43LcMlK_zAV",
        "colab_type": "code",
        "outputId": "bc6b1863-7293-467b-a2ce-8ccbda7707ea",
        "colab": {
          "base_uri": "https://localhost:8080/",
          "height": 693
        }
      },
      "source": [
        "#p, d, q\n",
        "#1. Number of AR (Auto-Regressive) terms (p).\n",
        "#2. Number of I (Integrated or Difference) terms (d).\n",
        "#3. Number of MA (Moving Average) terms (q)\n",
        "arima = SARIMAX(data['ConfirmedCases'], order=(2,2,13))\n",
        "arima_results=arima.fit()\n",
        "print(arima_results.aic)\n",
        "print(arima_results.bic)\n",
        "print(arima_results.summary())"
      ],
      "execution_count": 80,
      "outputs": [
        {
          "output_type": "stream",
          "text": [
            "648.7023973577093\n",
            "684.9052753903703\n",
            "                           Statespace Model Results                           \n",
            "==============================================================================\n",
            "Dep. Variable:         ConfirmedCases   No. Observations:                   73\n",
            "Model:              SARIMAX(2, 2, 13)   Log Likelihood                -308.351\n",
            "Date:                Fri, 15 May 2020   AIC                            648.702\n",
            "Time:                        19:47:35   BIC                            684.905\n",
            "Sample:                    03-03-2020   HQIC                           663.099\n",
            "                         - 05-14-2020                                         \n",
            "Covariance Type:                  opg                                         \n",
            "==============================================================================\n",
            "                 coef    std err          z      P>|z|      [0.025      0.975]\n",
            "------------------------------------------------------------------------------\n",
            "ar.L1         -0.5022      0.523     -0.960      0.337      -1.527       0.523\n",
            "ar.L2         -0.3968      0.203     -1.956      0.050      -0.794       0.001\n",
            "ma.L1         -0.2367     18.434     -0.013      0.990     -36.366      35.893\n",
            "ma.L2          0.1967     53.173      0.004      0.997    -104.020     104.413\n",
            "ma.L3         -0.2024     32.579     -0.006      0.995     -64.056      63.651\n",
            "ma.L4          0.0947     16.874      0.006      0.996     -32.978      33.167\n",
            "ma.L5         -0.1324     56.525     -0.002      0.998    -110.920     110.655\n",
            "ma.L6          0.3424     10.497      0.033      0.974     -20.232      20.917\n",
            "ma.L7         -0.0533     35.581     -0.001      0.999     -69.792      69.685\n",
            "ma.L8          0.1126     54.633      0.002      0.998    -106.967     107.192\n",
            "ma.L9          0.0353      7.385      0.005      0.996     -14.438      14.509\n",
            "ma.L10        -0.1168     53.507     -0.002      0.998    -104.988     104.754\n",
            "ma.L11        -0.0951     21.398     -0.004      0.996     -42.035      41.845\n",
            "ma.L12         0.4403     35.354      0.012      0.990     -68.853      69.733\n",
            "ma.L13         0.4871     29.211      0.017      0.987     -56.766      57.740\n",
            "sigma2       283.2800    1.7e+04      0.017      0.987   -3.31e+04    3.36e+04\n",
            "===================================================================================\n",
            "Ljung-Box (Q):                       20.23   Jarque-Bera (JB):                 4.14\n",
            "Prob(Q):                              1.00   Prob(JB):                         0.13\n",
            "Heteroskedasticity (H):               5.28   Skew:                             0.12\n",
            "Prob(H) (two-sided):                  0.00   Kurtosis:                         4.16\n",
            "===================================================================================\n",
            "\n",
            "Warnings:\n",
            "[1] Covariance matrix calculated using the outer product of gradients (complex-step).\n"
          ],
          "name": "stdout"
        }
      ]
    },
    {
      "cell_type": "code",
      "metadata": {
        "id": "AOSwn06i3S8L",
        "colab_type": "code",
        "outputId": "8996bf85-85aa-4eb5-f7fd-d6e04e6efcd4",
        "colab": {
          "base_uri": "https://localhost:8080/",
          "height": 243
        }
      },
      "source": [
        "#Assign residuals to variable\n",
        "residuals=arima_results.resid\n",
        "residuals"
      ],
      "execution_count": 81,
      "outputs": [
        {
          "output_type": "execute_result",
          "data": {
            "text/plain": [
              "Date\n",
              "2020-03-03     1.000000\n",
              "2020-03-04    -0.500019\n",
              "2020-03-05    -0.000289\n",
              "2020-03-06    -0.000156\n",
              "2020-03-07    -0.000066\n",
              "                ...    \n",
              "2020-05-10   -33.558374\n",
              "2020-05-11     2.694933\n",
              "2020-05-12    45.236336\n",
              "2020-05-13    -5.119078\n",
              "2020-05-14    20.126713\n",
              "Length: 73, dtype: float64"
            ]
          },
          "metadata": {
            "tags": []
          },
          "execution_count": 81
        }
      ]
    },
    {
      "cell_type": "code",
      "metadata": {
        "id": "oysEH00y3eW6",
        "colab_type": "code",
        "outputId": "271ec09f-9982-4e9d-922f-12920f5873e6",
        "colab": {
          "base_uri": "https://localhost:8080/",
          "height": 35
        }
      },
      "source": [
        "#Calculating the mean absolute error\n",
        "mae=np.mean(np.abs(residuals))\n",
        "mae"
      ],
      "execution_count": 82,
      "outputs": [
        {
          "output_type": "execute_result",
          "data": {
            "text/plain": [
              "12.89705866944545"
            ]
          },
          "metadata": {
            "tags": []
          },
          "execution_count": 82
        }
      ]
    },
    {
      "cell_type": "code",
      "metadata": {
        "id": "y68YLByYwv37",
        "colab_type": "code",
        "outputId": "32c69fdb-e3c1-49e6-a702-7663feb986de",
        "colab": {
          "base_uri": "https://localhost:8080/",
          "height": 35
        }
      },
      "source": [
        "#Calculating the mean absolute deviation\n",
        "residuals.mad()"
      ],
      "execution_count": 83,
      "outputs": [
        {
          "output_type": "execute_result",
          "data": {
            "text/plain": [
              "12.975773687307923"
            ]
          },
          "metadata": {
            "tags": []
          },
          "execution_count": 83
        }
      ]
    },
    {
      "cell_type": "code",
      "metadata": {
        "id": "f33YsTcy3-UH",
        "colab_type": "code",
        "outputId": "8b8fccc0-988e-4656-c15d-3e8158d67148",
        "colab": {
          "base_uri": "https://localhost:8080/",
          "height": 458
        }
      },
      "source": [
        "#Creat the 4 diagnostics plots\n",
        "arima_results.plot_diagnostics(figsize=(10,7))\n",
        "plt.show()\n",
        "#The residuals plot shows no obvious pattern/structure.\n",
        "#The histogram shows the measured distribution. A green line shows normal distribution, whereas the orange line shows the smoothed version of the histogram.\n",
        "#If the model is good, those 2 lines should be almost the same.\n",
        "#QQ plot is another way of showing how the distribution of the model resiudals compares to a normal distribution. We can see that most of the values lie along\n",
        "#the red line (except some values at either end).\n",
        "#Correlogram shows no correlation in the residuals."
      ],
      "execution_count": 84,
      "outputs": [
        {
          "output_type": "display_data",
          "data": {
            "image/png": "[encoded data removed]",
            "text/plain": [
              "<Figure size 720x504 with 4 Axes>"
            ]
          },
          "metadata": {
            "tags": [],
            "needs_background": "light"
          }
        }
      ]
    },
    {
      "cell_type": "markdown",
      "metadata": {
        "id": "lKZKIdhW4h3l",
        "colab_type": "text"
      },
      "source": [
        "Production - Making the Forecast"
      ]
    },
    {
      "cell_type": "code",
      "metadata": {
        "id": "8JA3W5L6_4sZ",
        "colab_type": "code",
        "colab": {}
      },
      "source": [
        "# Make ARIMA forecast of next 30 values\n",
        "arima_value_forecast = arima_results.get_forecast(steps=30).predicted_mean"
      ],
      "execution_count": 0,
      "outputs": []
    },
    {
      "cell_type": "code",
      "metadata": {
        "id": "eFraPvRr_-Ay",
        "colab_type": "code",
        "colab": {}
      },
      "source": [
        "# Print forecast\n",
        "print(arima_value_forecast)"
      ],
      "execution_count": 0,
      "outputs": []
    },
    {
      "cell_type": "code",
      "metadata": {
        "id": "0_BIBcVOEOl7",
        "colab_type": "code",
        "colab": {}
      },
      "source": [
        "#Getting all the possible combinations of p,d,q\n",
        "p = d = q = range(0,5) #We put whatever range we wish.\n",
        "pdq = list(itertools.product(p,d,q))\n",
        "pdq"
      ],
      "execution_count": 0,
      "outputs": []
    },
    {
      "cell_type": "code",
      "metadata": {
        "id": "CfPudgrqEQhX",
        "colab_type": "code",
        "colab": {}
      },
      "source": [
        "#The command gives the AIC for all combinations of p,d,q. The best(lowest) version is already chosen above. \n",
        "#However, our choice was not only based on the AIC score. It also takes into account the diagnostics and error metrics. \n",
        "for param in pdq:\n",
        "    try:\n",
        "        arima = SARIMAX(data.ConfirmedCases, order = param)\n",
        "        arima_results = arima.fit()\n",
        "        print(param,arima_results.aic)\n",
        "    except:\n",
        "        continue"
      ],
      "execution_count": 0,
      "outputs": []
    },
    {
      "cell_type": "markdown",
      "metadata": {
        "id": "J4Pqrx_EtJyX",
        "colab_type": "text"
      },
      "source": [
        "#Facebook Prophet"
      ]
    },
    {
      "cell_type": "code",
      "metadata": {
        "id": "qndqe9PKtLqy",
        "colab_type": "code",
        "colab": {}
      },
      "source": [
        "#Now, let's use another approach for making a forecast. Facebook Prophet is a package, which is used for a forecast of time series data. \n",
        "#The unique thing about this package is that it automatically finds seasonal trends beneath the data and offers a solution. The aproach is a lot easier\n",
        "#than ARIMA, also it provides better visualization tools."
      ],
      "execution_count": 0,
      "outputs": []
    },
    {
      "cell_type": "code",
      "metadata": {
        "id": "j_AlMG0Ou1Er",
        "colab_type": "code",
        "colab": {}
      },
      "source": [
        "#First let's store the data in a new dataframe to make it workable for Prophet.\n",
        "data_= pd.read_csv(url)\n",
        "data_\n",
        "data_.rename(columns={'Confirmed Cases':'ConfirmedCases'},inplace=True)"
      ],
      "execution_count": 0,
      "outputs": []
    },
    {
      "cell_type": "code",
      "metadata": {
        "id": "riZnmirGwkAz",
        "colab_type": "code",
        "outputId": "2d6108d4-af0c-4b08-d6f7-4800b72687c9",
        "colab": {
          "base_uri": "https://localhost:8080/",
          "height": 202
        }
      },
      "source": [
        "#The input to Prophet should be two columns: ds and y. The ds (datestamp) column should be of a format expected by Pandas, ideally YYYY-MM-DD for a date. \n",
        "#The y column must be numeric, and represent the measurement we wish to forecast (in our case ConfirmedCases column).\n",
        "data_.rename(columns={'Date':'ds', 'ConfirmedCases':'y'},inplace=True)\n",
        "data_.head()"
      ],
      "execution_count": 88,
      "outputs": [
        {
          "output_type": "execute_result",
          "data": {
            "text/html": [
              "<div>\n",
              "<style scoped>\n",
              "    .dataframe tbody tr th:only-of-type {\n",
              "        vertical-align: middle;\n",
              "    }\n",
              "\n",
              "    .dataframe tbody tr th {\n",
              "        vertical-align: top;\n",
              "    }\n",
              "\n",
              "    .dataframe thead th {\n",
              "        text-align: right;\n",
              "    }\n",
              "</style>\n",
              "<table border=\"1\" class=\"dataframe\">\n",
              "  <thead>\n",
              "    <tr style=\"text-align: right;\">\n",
              "      <th></th>\n",
              "      <th>iso_code</th>\n",
              "      <th>Country_Region</th>\n",
              "      <th>ds</th>\n",
              "      <th>NewCases</th>\n",
              "      <th>y</th>\n",
              "      <th>NewDeaths</th>\n",
              "      <th>TotalDeaths</th>\n",
              "    </tr>\n",
              "  </thead>\n",
              "  <tbody>\n",
              "    <tr>\n",
              "      <th>0</th>\n",
              "      <td>ARM</td>\n",
              "      <td>Armenia</td>\n",
              "      <td>2020-03-01</td>\n",
              "      <td>1</td>\n",
              "      <td>1</td>\n",
              "      <td>0</td>\n",
              "      <td>0</td>\n",
              "    </tr>\n",
              "    <tr>\n",
              "      <th>1</th>\n",
              "      <td>ARM</td>\n",
              "      <td>Armenia</td>\n",
              "      <td>2020-03-02</td>\n",
              "      <td>0</td>\n",
              "      <td>1</td>\n",
              "      <td>0</td>\n",
              "      <td>0</td>\n",
              "    </tr>\n",
              "    <tr>\n",
              "      <th>2</th>\n",
              "      <td>ARM</td>\n",
              "      <td>Armenia</td>\n",
              "      <td>2020-03-03</td>\n",
              "      <td>0</td>\n",
              "      <td>1</td>\n",
              "      <td>0</td>\n",
              "      <td>0</td>\n",
              "    </tr>\n",
              "    <tr>\n",
              "      <th>3</th>\n",
              "      <td>ARM</td>\n",
              "      <td>Armenia</td>\n",
              "      <td>2020-03-04</td>\n",
              "      <td>0</td>\n",
              "      <td>1</td>\n",
              "      <td>0</td>\n",
              "      <td>0</td>\n",
              "    </tr>\n",
              "    <tr>\n",
              "      <th>4</th>\n",
              "      <td>ARM</td>\n",
              "      <td>Armenia</td>\n",
              "      <td>2020-03-05</td>\n",
              "      <td>0</td>\n",
              "      <td>1</td>\n",
              "      <td>0</td>\n",
              "      <td>0</td>\n",
              "    </tr>\n",
              "  </tbody>\n",
              "</table>\n",
              "</div>"
            ],
            "text/plain": [
              "  iso_code Country_Region          ds  NewCases  y  NewDeaths  TotalDeaths\n",
              "0      ARM        Armenia  2020-03-01         1  1          0            0\n",
              "1      ARM        Armenia  2020-03-02         0  1          0            0\n",
              "2      ARM        Armenia  2020-03-03         0  1          0            0\n",
              "3      ARM        Armenia  2020-03-04         0  1          0            0\n",
              "4      ARM        Armenia  2020-03-05         0  1          0            0"
            ]
          },
          "metadata": {
            "tags": []
          },
          "execution_count": 88
        }
      ]
    },
    {
      "cell_type": "code",
      "metadata": {
        "id": "yoF7LRL6v-BK",
        "colab_type": "code",
        "outputId": "e24f0ae0-b5f2-4b2a-d977-5af53c1b17a7",
        "colab": {
          "base_uri": "https://localhost:8080/",
          "height": 415
        }
      },
      "source": [
        "#We are dropping the rest of the columns, because we do not need them. \n",
        "data_.drop(['NewCases', 'TotalDeaths', 'NewDeaths',], axis=1)"
      ],
      "execution_count": 40,
      "outputs": [
        {
          "output_type": "execute_result",
          "data": {
            "text/html": [
              "<div>\n",
              "<style scoped>\n",
              "    .dataframe tbody tr th:only-of-type {\n",
              "        vertical-align: middle;\n",
              "    }\n",
              "\n",
              "    .dataframe tbody tr th {\n",
              "        vertical-align: top;\n",
              "    }\n",
              "\n",
              "    .dataframe thead th {\n",
              "        text-align: right;\n",
              "    }\n",
              "</style>\n",
              "<table border=\"1\" class=\"dataframe\">\n",
              "  <thead>\n",
              "    <tr style=\"text-align: right;\">\n",
              "      <th></th>\n",
              "      <th>iso_code</th>\n",
              "      <th>Country_Region</th>\n",
              "      <th>ds</th>\n",
              "      <th>y</th>\n",
              "    </tr>\n",
              "  </thead>\n",
              "  <tbody>\n",
              "    <tr>\n",
              "      <th>0</th>\n",
              "      <td>ARM</td>\n",
              "      <td>Armenia</td>\n",
              "      <td>2020-03-01</td>\n",
              "      <td>1</td>\n",
              "    </tr>\n",
              "    <tr>\n",
              "      <th>1</th>\n",
              "      <td>ARM</td>\n",
              "      <td>Armenia</td>\n",
              "      <td>2020-03-02</td>\n",
              "      <td>1</td>\n",
              "    </tr>\n",
              "    <tr>\n",
              "      <th>2</th>\n",
              "      <td>ARM</td>\n",
              "      <td>Armenia</td>\n",
              "      <td>2020-03-03</td>\n",
              "      <td>1</td>\n",
              "    </tr>\n",
              "    <tr>\n",
              "      <th>3</th>\n",
              "      <td>ARM</td>\n",
              "      <td>Armenia</td>\n",
              "      <td>2020-03-04</td>\n",
              "      <td>1</td>\n",
              "    </tr>\n",
              "    <tr>\n",
              "      <th>4</th>\n",
              "      <td>ARM</td>\n",
              "      <td>Armenia</td>\n",
              "      <td>2020-03-05</td>\n",
              "      <td>1</td>\n",
              "    </tr>\n",
              "    <tr>\n",
              "      <th>...</th>\n",
              "      <td>...</td>\n",
              "      <td>...</td>\n",
              "      <td>...</td>\n",
              "      <td>...</td>\n",
              "    </tr>\n",
              "    <tr>\n",
              "      <th>70</th>\n",
              "      <td>ARM</td>\n",
              "      <td>Armenia</td>\n",
              "      <td>2020-05-10</td>\n",
              "      <td>3392</td>\n",
              "    </tr>\n",
              "    <tr>\n",
              "      <th>71</th>\n",
              "      <td>ARM</td>\n",
              "      <td>Armenia</td>\n",
              "      <td>2020-05-11</td>\n",
              "      <td>3538</td>\n",
              "    </tr>\n",
              "    <tr>\n",
              "      <th>72</th>\n",
              "      <td>ARM</td>\n",
              "      <td>Armenia</td>\n",
              "      <td>2020-05-12</td>\n",
              "      <td>3718</td>\n",
              "    </tr>\n",
              "    <tr>\n",
              "      <th>73</th>\n",
              "      <td>ARM</td>\n",
              "      <td>Armenia</td>\n",
              "      <td>2020-05-13</td>\n",
              "      <td>3860</td>\n",
              "    </tr>\n",
              "    <tr>\n",
              "      <th>74</th>\n",
              "      <td>ARM</td>\n",
              "      <td>Armenia</td>\n",
              "      <td>2020-05-14</td>\n",
              "      <td>4044</td>\n",
              "    </tr>\n",
              "  </tbody>\n",
              "</table>\n",
              "<p>75 rows × 4 columns</p>\n",
              "</div>"
            ],
            "text/plain": [
              "   iso_code Country_Region          ds     y\n",
              "0       ARM        Armenia  2020-03-01     1\n",
              "1       ARM        Armenia  2020-03-02     1\n",
              "2       ARM        Armenia  2020-03-03     1\n",
              "3       ARM        Armenia  2020-03-04     1\n",
              "4       ARM        Armenia  2020-03-05     1\n",
              "..      ...            ...         ...   ...\n",
              "70      ARM        Armenia  2020-05-10  3392\n",
              "71      ARM        Armenia  2020-05-11  3538\n",
              "72      ARM        Armenia  2020-05-12  3718\n",
              "73      ARM        Armenia  2020-05-13  3860\n",
              "74      ARM        Armenia  2020-05-14  4044\n",
              "\n",
              "[75 rows x 4 columns]"
            ]
          },
          "metadata": {
            "tags": []
          },
          "execution_count": 40
        }
      ]
    },
    {
      "cell_type": "code",
      "metadata": {
        "id": "gbJ3XeMKvEJQ",
        "colab_type": "code",
        "outputId": "3c07c112-79ab-45a3-883e-52a1bb729ca7",
        "colab": {
          "base_uri": "https://localhost:8080/",
          "height": 69
        }
      },
      "source": [
        "#We are instantiating a new Prophet object and fitting it.\n",
        "m = Prophet()\n",
        "m.fit(data_)"
      ],
      "execution_count": 41,
      "outputs": [
        {
          "output_type": "stream",
          "text": [
            "INFO:fbprophet:Disabling yearly seasonality. Run prophet with yearly_seasonality=True to override this.\n",
            "INFO:fbprophet:Disabling daily seasonality. Run prophet with daily_seasonality=True to override this.\n"
          ],
          "name": "stderr"
        },
        {
          "output_type": "execute_result",
          "data": {
            "text/plain": [
              "<fbprophet.forecaster.Prophet at 0x7f023b205710>"
            ]
          },
          "metadata": {
            "tags": []
          },
          "execution_count": 41
        }
      ]
    },
    {
      "cell_type": "code",
      "metadata": {
        "id": "-5VXXQ35wCgA",
        "colab_type": "code",
        "outputId": "97e27e95-4836-43ea-eca6-d5ea53c1f979",
        "colab": {
          "base_uri": "https://localhost:8080/",
          "height": 202
        }
      },
      "source": [
        "#We should create a dataframe that extends into the future a specified number of days using the helper method Prophet.make_future_dataframe.\n",
        "#By default it will also include the dates from the history, so we will see the model fit as well, which is not the case for ARIMA.\n",
        "#We have specified 30 days.\n",
        "future = m.make_future_dataframe(periods=30)\n",
        "future.tail()"
      ],
      "execution_count": 89,
      "outputs": [
        {
          "output_type": "execute_result",
          "data": {
            "text/html": [
              "<div>\n",
              "<style scoped>\n",
              "    .dataframe tbody tr th:only-of-type {\n",
              "        vertical-align: middle;\n",
              "    }\n",
              "\n",
              "    .dataframe tbody tr th {\n",
              "        vertical-align: top;\n",
              "    }\n",
              "\n",
              "    .dataframe thead th {\n",
              "        text-align: right;\n",
              "    }\n",
              "</style>\n",
              "<table border=\"1\" class=\"dataframe\">\n",
              "  <thead>\n",
              "    <tr style=\"text-align: right;\">\n",
              "      <th></th>\n",
              "      <th>ds</th>\n",
              "    </tr>\n",
              "  </thead>\n",
              "  <tbody>\n",
              "    <tr>\n",
              "      <th>100</th>\n",
              "      <td>2020-06-09</td>\n",
              "    </tr>\n",
              "    <tr>\n",
              "      <th>101</th>\n",
              "      <td>2020-06-10</td>\n",
              "    </tr>\n",
              "    <tr>\n",
              "      <th>102</th>\n",
              "      <td>2020-06-11</td>\n",
              "    </tr>\n",
              "    <tr>\n",
              "      <th>103</th>\n",
              "      <td>2020-06-12</td>\n",
              "    </tr>\n",
              "    <tr>\n",
              "      <th>104</th>\n",
              "      <td>2020-06-13</td>\n",
              "    </tr>\n",
              "  </tbody>\n",
              "</table>\n",
              "</div>"
            ],
            "text/plain": [
              "            ds\n",
              "100 2020-06-09\n",
              "101 2020-06-10\n",
              "102 2020-06-11\n",
              "103 2020-06-12\n",
              "104 2020-06-13"
            ]
          },
          "metadata": {
            "tags": []
          },
          "execution_count": 89
        }
      ]
    },
    {
      "cell_type": "code",
      "metadata": {
        "id": "Yia9YS_B1hET",
        "colab_type": "code",
        "outputId": "a6470b45-e738-45be-bc48-6171b408386f",
        "colab": {
          "base_uri": "https://localhost:8080/",
          "height": 969
        }
      },
      "source": [
        "#The predict method will assign each row in future a predicted value which it names yhat. \n",
        "#If we pass in historical dates, it will provide an in-sample fit. The forecast object here is a new dataframe that includes a column \n",
        "#yhat with the forecast, as well as columns for components and uncertainty intervals.\n",
        "forecast = m.predict(future)\n",
        "forecast[['ds', 'yhat', 'yhat_lower', 'yhat_upper']].tail(30)"
      ],
      "execution_count": 90,
      "outputs": [
        {
          "output_type": "execute_result",
          "data": {
            "text/html": [
              "<div>\n",
              "<style scoped>\n",
              "    .dataframe tbody tr th:only-of-type {\n",
              "        vertical-align: middle;\n",
              "    }\n",
              "\n",
              "    .dataframe tbody tr th {\n",
              "        vertical-align: top;\n",
              "    }\n",
              "\n",
              "    .dataframe thead th {\n",
              "        text-align: right;\n",
              "    }\n",
              "</style>\n",
              "<table border=\"1\" class=\"dataframe\">\n",
              "  <thead>\n",
              "    <tr style=\"text-align: right;\">\n",
              "      <th></th>\n",
              "      <th>ds</th>\n",
              "      <th>yhat</th>\n",
              "      <th>yhat_lower</th>\n",
              "      <th>yhat_upper</th>\n",
              "    </tr>\n",
              "  </thead>\n",
              "  <tbody>\n",
              "    <tr>\n",
              "      <th>75</th>\n",
              "      <td>2020-05-15</td>\n",
              "      <td>4095.792099</td>\n",
              "      <td>4074.212987</td>\n",
              "      <td>4116.938207</td>\n",
              "    </tr>\n",
              "    <tr>\n",
              "      <th>76</th>\n",
              "      <td>2020-05-16</td>\n",
              "      <td>4226.856357</td>\n",
              "      <td>4202.791553</td>\n",
              "      <td>4248.994747</td>\n",
              "    </tr>\n",
              "    <tr>\n",
              "      <th>77</th>\n",
              "      <td>2020-05-17</td>\n",
              "      <td>4345.581600</td>\n",
              "      <td>4318.275672</td>\n",
              "      <td>4372.867613</td>\n",
              "    </tr>\n",
              "    <tr>\n",
              "      <th>78</th>\n",
              "      <td>2020-05-18</td>\n",
              "      <td>4474.150193</td>\n",
              "      <td>4440.356814</td>\n",
              "      <td>4510.299660</td>\n",
              "    </tr>\n",
              "    <tr>\n",
              "      <th>79</th>\n",
              "      <td>2020-05-19</td>\n",
              "      <td>4613.230862</td>\n",
              "      <td>4570.949776</td>\n",
              "      <td>4659.835642</td>\n",
              "    </tr>\n",
              "    <tr>\n",
              "      <th>80</th>\n",
              "      <td>2020-05-20</td>\n",
              "      <td>4753.584166</td>\n",
              "      <td>4698.792015</td>\n",
              "      <td>4813.602496</td>\n",
              "    </tr>\n",
              "    <tr>\n",
              "      <th>81</th>\n",
              "      <td>2020-05-21</td>\n",
              "      <td>4885.903067</td>\n",
              "      <td>4817.569764</td>\n",
              "      <td>4960.717510</td>\n",
              "    </tr>\n",
              "    <tr>\n",
              "      <th>82</th>\n",
              "      <td>2020-05-22</td>\n",
              "      <td>5009.748524</td>\n",
              "      <td>4925.672792</td>\n",
              "      <td>5104.883006</td>\n",
              "    </tr>\n",
              "    <tr>\n",
              "      <th>83</th>\n",
              "      <td>2020-05-23</td>\n",
              "      <td>5140.812783</td>\n",
              "      <td>5036.996155</td>\n",
              "      <td>5250.538486</td>\n",
              "    </tr>\n",
              "    <tr>\n",
              "      <th>84</th>\n",
              "      <td>2020-05-24</td>\n",
              "      <td>5259.538026</td>\n",
              "      <td>5137.469363</td>\n",
              "      <td>5388.112689</td>\n",
              "    </tr>\n",
              "    <tr>\n",
              "      <th>85</th>\n",
              "      <td>2020-05-25</td>\n",
              "      <td>5388.106618</td>\n",
              "      <td>5250.248817</td>\n",
              "      <td>5537.674199</td>\n",
              "    </tr>\n",
              "    <tr>\n",
              "      <th>86</th>\n",
              "      <td>2020-05-26</td>\n",
              "      <td>5527.187287</td>\n",
              "      <td>5368.765861</td>\n",
              "      <td>5690.677081</td>\n",
              "    </tr>\n",
              "    <tr>\n",
              "      <th>87</th>\n",
              "      <td>2020-05-27</td>\n",
              "      <td>5667.540591</td>\n",
              "      <td>5484.110529</td>\n",
              "      <td>5854.868614</td>\n",
              "    </tr>\n",
              "    <tr>\n",
              "      <th>88</th>\n",
              "      <td>2020-05-28</td>\n",
              "      <td>5799.859492</td>\n",
              "      <td>5595.675469</td>\n",
              "      <td>6016.298649</td>\n",
              "    </tr>\n",
              "    <tr>\n",
              "      <th>89</th>\n",
              "      <td>2020-05-29</td>\n",
              "      <td>5923.704950</td>\n",
              "      <td>5700.762495</td>\n",
              "      <td>6158.169854</td>\n",
              "    </tr>\n",
              "    <tr>\n",
              "      <th>90</th>\n",
              "      <td>2020-05-30</td>\n",
              "      <td>6054.769208</td>\n",
              "      <td>5805.917920</td>\n",
              "      <td>6318.305411</td>\n",
              "    </tr>\n",
              "    <tr>\n",
              "      <th>91</th>\n",
              "      <td>2020-05-31</td>\n",
              "      <td>6173.494452</td>\n",
              "      <td>5894.227026</td>\n",
              "      <td>6460.456205</td>\n",
              "    </tr>\n",
              "    <tr>\n",
              "      <th>92</th>\n",
              "      <td>2020-06-01</td>\n",
              "      <td>6302.063044</td>\n",
              "      <td>6002.082805</td>\n",
              "      <td>6621.709020</td>\n",
              "    </tr>\n",
              "    <tr>\n",
              "      <th>93</th>\n",
              "      <td>2020-06-02</td>\n",
              "      <td>6441.143713</td>\n",
              "      <td>6102.705511</td>\n",
              "      <td>6775.914536</td>\n",
              "    </tr>\n",
              "    <tr>\n",
              "      <th>94</th>\n",
              "      <td>2020-06-03</td>\n",
              "      <td>6581.497017</td>\n",
              "      <td>6218.672397</td>\n",
              "      <td>6942.356999</td>\n",
              "    </tr>\n",
              "    <tr>\n",
              "      <th>95</th>\n",
              "      <td>2020-06-04</td>\n",
              "      <td>6713.815918</td>\n",
              "      <td>6318.846351</td>\n",
              "      <td>7112.384313</td>\n",
              "    </tr>\n",
              "    <tr>\n",
              "      <th>96</th>\n",
              "      <td>2020-06-05</td>\n",
              "      <td>6837.661376</td>\n",
              "      <td>6421.508964</td>\n",
              "      <td>7256.800275</td>\n",
              "    </tr>\n",
              "    <tr>\n",
              "      <th>97</th>\n",
              "      <td>2020-06-06</td>\n",
              "      <td>6968.725634</td>\n",
              "      <td>6521.702703</td>\n",
              "      <td>7415.942724</td>\n",
              "    </tr>\n",
              "    <tr>\n",
              "      <th>98</th>\n",
              "      <td>2020-06-07</td>\n",
              "      <td>7087.450877</td>\n",
              "      <td>6609.762111</td>\n",
              "      <td>7555.221593</td>\n",
              "    </tr>\n",
              "    <tr>\n",
              "      <th>99</th>\n",
              "      <td>2020-06-08</td>\n",
              "      <td>7216.019470</td>\n",
              "      <td>6706.295378</td>\n",
              "      <td>7711.262561</td>\n",
              "    </tr>\n",
              "    <tr>\n",
              "      <th>100</th>\n",
              "      <td>2020-06-09</td>\n",
              "      <td>7355.100139</td>\n",
              "      <td>6807.796434</td>\n",
              "      <td>7874.956486</td>\n",
              "    </tr>\n",
              "    <tr>\n",
              "      <th>101</th>\n",
              "      <td>2020-06-10</td>\n",
              "      <td>7495.453443</td>\n",
              "      <td>6919.369417</td>\n",
              "      <td>8026.121483</td>\n",
              "    </tr>\n",
              "    <tr>\n",
              "      <th>102</th>\n",
              "      <td>2020-06-11</td>\n",
              "      <td>7627.772344</td>\n",
              "      <td>7006.391163</td>\n",
              "      <td>8204.382275</td>\n",
              "    </tr>\n",
              "    <tr>\n",
              "      <th>103</th>\n",
              "      <td>2020-06-12</td>\n",
              "      <td>7751.617801</td>\n",
              "      <td>7082.666425</td>\n",
              "      <td>8350.221872</td>\n",
              "    </tr>\n",
              "    <tr>\n",
              "      <th>104</th>\n",
              "      <td>2020-06-13</td>\n",
              "      <td>7882.682060</td>\n",
              "      <td>7187.742114</td>\n",
              "      <td>8518.336181</td>\n",
              "    </tr>\n",
              "  </tbody>\n",
              "</table>\n",
              "</div>"
            ],
            "text/plain": [
              "            ds         yhat   yhat_lower   yhat_upper\n",
              "75  2020-05-15  4095.792099  4074.212987  4116.938207\n",
              "76  2020-05-16  4226.856357  4202.791553  4248.994747\n",
              "77  2020-05-17  4345.581600  4318.275672  4372.867613\n",
              "78  2020-05-18  4474.150193  4440.356814  4510.299660\n",
              "79  2020-05-19  4613.230862  4570.949776  4659.835642\n",
              "80  2020-05-20  4753.584166  4698.792015  4813.602496\n",
              "81  2020-05-21  4885.903067  4817.569764  4960.717510\n",
              "82  2020-05-22  5009.748524  4925.672792  5104.883006\n",
              "83  2020-05-23  5140.812783  5036.996155  5250.538486\n",
              "84  2020-05-24  5259.538026  5137.469363  5388.112689\n",
              "85  2020-05-25  5388.106618  5250.248817  5537.674199\n",
              "86  2020-05-26  5527.187287  5368.765861  5690.677081\n",
              "87  2020-05-27  5667.540591  5484.110529  5854.868614\n",
              "88  2020-05-28  5799.859492  5595.675469  6016.298649\n",
              "89  2020-05-29  5923.704950  5700.762495  6158.169854\n",
              "90  2020-05-30  6054.769208  5805.917920  6318.305411\n",
              "91  2020-05-31  6173.494452  5894.227026  6460.456205\n",
              "92  2020-06-01  6302.063044  6002.082805  6621.709020\n",
              "93  2020-06-02  6441.143713  6102.705511  6775.914536\n",
              "94  2020-06-03  6581.497017  6218.672397  6942.356999\n",
              "95  2020-06-04  6713.815918  6318.846351  7112.384313\n",
              "96  2020-06-05  6837.661376  6421.508964  7256.800275\n",
              "97  2020-06-06  6968.725634  6521.702703  7415.942724\n",
              "98  2020-06-07  7087.450877  6609.762111  7555.221593\n",
              "99  2020-06-08  7216.019470  6706.295378  7711.262561\n",
              "100 2020-06-09  7355.100139  6807.796434  7874.956486\n",
              "101 2020-06-10  7495.453443  6919.369417  8026.121483\n",
              "102 2020-06-11  7627.772344  7006.391163  8204.382275\n",
              "103 2020-06-12  7751.617801  7082.666425  8350.221872\n",
              "104 2020-06-13  7882.682060  7187.742114  8518.336181"
            ]
          },
          "metadata": {
            "tags": []
          },
          "execution_count": 90
        }
      ]
    },
    {
      "cell_type": "code",
      "metadata": {
        "id": "yjCCtyEU2k4-",
        "colab_type": "code",
        "outputId": "9e5dc7f6-e03f-4363-caa0-3f85db99139c",
        "colab": {
          "base_uri": "https://localhost:8080/",
          "height": 441
        }
      },
      "source": [
        "#Now we can plot the forecast\n",
        "fig1 = m.plot(forecast, xlabel='Date', ylabel='Confirmed Cases', figsize=(10,6))\n"
      ],
      "execution_count": 91,
      "outputs": [
        {
          "output_type": "display_data",
          "data": {
            "image/png": "[encoded data removed]",
            "text/plain": [
              "<Figure size 720x432 with 1 Axes>"
            ]
          },
          "metadata": {
            "tags": []
          }
        }
      ]
    },
    {
      "cell_type": "code",
      "metadata": {
        "id": "89fGv6aj4Slj",
        "colab_type": "code",
        "colab": {}
      },
      "source": [
        " #Calculate mean absolute percentage error (MAPE)\"\"\"\n",
        "def calculate_mape(y_true, y_pred):\n",
        "       return np.mean(np.abs((y_true - y_pred) / y_true)) * 100\n",
        "#Calculate mean percentage error (MPE)\"\"\"\n",
        "def calculate_mpe(y_true, y_pred):\n",
        "        return np.mean((y_true - y_pred) / y_true) * 100\n",
        "#Calculate mean absolute error (MAE)\"\"\"\n",
        "def calculate_mae(y_true, y_pred):\n",
        "        return np.mean(np.abs(y_true - y_pred)) * 100\n",
        "#Calculate root mean square error (RMSE)\"\"\"\n",
        "def calculate_mse(y_true, y_pred):\n",
        "       return np.sqrt(np.mean((y_true - y_pred)**2))\n",
        "\n",
        "def print_error_metrics(y_true, y_pred):\n",
        "    print('MAPE: %f'%calculate_mape(y_true, y_pred))\n",
        "    print('MPE: %f'%calculate_mpe(y_true, y_pred))\n",
        "    print('MAE: %f'%calculate_mae(y_true, y_pred))\n",
        "    print('MSE: %f'%calculate_mse(y_true, y_pred))\n",
        "    return"
      ],
      "execution_count": 0,
      "outputs": []
    },
    {
      "cell_type": "code",
      "metadata": {
        "id": "DFt8nFXU9Gvy",
        "colab_type": "code",
        "outputId": "7e4c2d7e-c4ca-4f88-9f16-dd78fdc943de",
        "colab": {
          "base_uri": "https://localhost:8080/",
          "height": 87
        }
      },
      "source": [
        "#In general the metrics are much higher from that of ARIMA. This means that ARIMA is more reliable in terms of accuracy. \n",
        "print_error_metrics(y_true = data_['y'], y_pred = forecast['yhat'])"
      ],
      "execution_count": 96,
      "outputs": [
        {
          "output_type": "stream",
          "text": [
            "MAPE: 93.034996\n",
            "MPE: 11.304893\n",
            "MAE: 1083.030891\n",
            "MSE: 16.430281\n"
          ],
          "name": "stdout"
        }
      ]
    },
    {
      "cell_type": "markdown",
      "metadata": {
        "id": "_62d-5t266a4",
        "colab_type": "text"
      },
      "source": [
        "THE END!"
      ]
    },
    {
      "cell_type": "code",
      "metadata": {
        "id": "JGQvOpSr688D",
        "colab_type": "code",
        "colab": {}
      },
      "source": [
        ""
      ],
      "execution_count": 0,
      "outputs": []
    }
  ]
}